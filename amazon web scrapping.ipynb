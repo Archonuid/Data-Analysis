{
  "nbformat": 4,
  "nbformat_minor": 0,
  "metadata": {
    "colab": {
      "provenance": []
    },
    "kernelspec": {
      "name": "python3",
      "display_name": "Python 3"
    },
    "language_info": {
      "name": "python"
    }
  },
  "cells": [
    {
      "cell_type": "code",
      "source": [
        "from IPython.core.interactiveshell import InteractiveShell\n",
        "InteractiveShell.ast_node_interactivity = \"all\""
      ],
      "metadata": {
        "id": "6Hl_ALx7dE3f"
      },
      "execution_count": null,
      "outputs": []
    },
    {
      "cell_type": "code",
      "source": [
        "import requests\n",
        "from bs4 import BeautifulSoup\n",
        "\n",
        "def scrape_amazon_reviews(product_url, num_pages=1):\n",
        "    reviews = []\n",
        "\n",
        "    try:\n",
        "        for page in range(1, num_pages + 1):\n",
        "            url = f\"{product_url}?pageNumber={page}\"\n",
        "            response = requests.get(url)\n",
        "\n",
        "            response.raise_for_status()  # Check for HTTP errors\n",
        "\n",
        "            soup = BeautifulSoup(response.content, 'html.parser')\n",
        "\n",
        "            review_elements = soup.find_all('div', class_='a-section review')\n",
        "\n",
        "            for review_element in review_elements:\n",
        "                review = {}\n",
        "                rating_element = review_element.find('span', class_='a-icon-alt')\n",
        "                if rating_element:\n",
        "                    review['rating'] = float(rating_element.text.split()[0])\n",
        "                else:\n",
        "                    review['rating'] = None\n",
        "                review['title'] = review_element.find('a', class_='review-title').span.text\n",
        "                review['content'] = review_element.find('span', class_='review-text').text\n",
        "                reviews.append(review)\n",
        "\n",
        "        return reviews\n",
        "\n",
        "    except Exception as e:\n",
        "        print(\"An error occurred:\", str(e))\n",
        "        return None\n",
        "\n",
        "# Enter the Amazon product URL here\n",
        "product_url = 'https://www.amazon.in/Friendly-settings-Sharpening-Cordless-Rechargeable/dp/B0C7VYN5PV/ref=zg_bsnr_c_hpc_sccl_1/259-0766209-5404203?pd_rd_w=otyXd&content-id=amzn1.sym.7dd29d48-66c1-486c-967d-2ed40101f2ea&pf_rd_p=7dd29d48-66c1-486c-967d-2ed40101f2ea&pf_rd_r=FQFM3FSV83EXGHHTK8YG&pd_rd_wg=6zkhY&pd_rd_r=ecd127c5-9b2c-456f-baae-bdb2ee071517&pd_rd_i=B0C7VYN5PV&psc=1'\n",
        "\n",
        "# Scrape reviews from the product page\n",
        "reviews = scrape_amazon_reviews(product_url, num_pages=5)\n",
        "\n",
        "if reviews is not None:\n",
        "    # Print the scraped reviews\n",
        "    for i, review in enumerate(reviews, start=1):\n",
        "        print(f\"Review {i}:\")\n",
        "        print(f\"Rating: {review.get('rating', 'N/A')}\")\n",
        "        print(f\"Title: {review['title']}\")\n",
        "        print(f\"Content: {review['content']}\")\n",
        "        print(\"=\" * 40)\n"
      ],
      "metadata": {
        "id": "9ZrP1Izme_Pt",
        "outputId": "c2009a80-eb6b-4ad7-81ae-f25abc1df2cc",
        "colab": {
          "base_uri": "https://localhost:8080/"
        }
      },
      "execution_count": null,
      "outputs": [
        {
          "output_type": "stream",
          "name": "stdout",
          "text": [
            "An error occurred: 503 Server Error: Service Unavailable for url: https://www.amazon.in/Friendly-settings-Sharpening-Cordless-Rechargeable/dp/B0C7VYN5PV/ref=zg_bsnr_c_hpc_sccl_1/259-0766209-5404203?pd_rd_w=otyXd&content-id=amzn1.sym.7dd29d48-66c1-486c-967d-2ed40101f2ea&pf_rd_p=7dd29d48-66c1-486c-967d-2ed40101f2ea&pf_rd_r=FQFM3FSV83EXGHHTK8YG&pd_rd_wg=6zkhY&pd_rd_r=ecd127c5-9b2c-456f-baae-bdb2ee071517&pd_rd_i=B0C7VYN5PV&psc=1?pageNumber=1\n"
          ]
        }
      ]
    },
    {
      "cell_type": "code",
      "source": [
        "import requests\n",
        "\n",
        "def save_amazon_product_page(url, filename):\n",
        "    try:\n",
        "        # HTTP GET request\n",
        "        response = requests.get(url)\n",
        "        response.raise_for_status()  # Check for HTTP errors\n",
        "\n",
        "        # Save the content to a text/HTML file\n",
        "        with open(filename, 'w', encoding='utf-8') as file:\n",
        "            file.write(response.text)\n",
        "\n",
        "        print(f\"Amazon product page saved as {filename}\")\n",
        "\n",
        "    except Exception as e:\n",
        "        print(\"An error occurred:\", str(e))\n",
        "\n",
        "# Amazon product URL and filename\n",
        "product_url = 'https://www.amazon.in/Friendly-settings-Sharpening-Cordless-Rechargeable/dp/B0C7VYN5PV/ref=zg_bsnr_c_hpc_sccl_1/259-0766209-5404203?pd_rd_w=otyXd&content-id=amzn1.sym.7dd29d48-66c1-486c-967d-2ed40101f2ea&pf_rd_p=7dd29d48-66c1-486c-967d-2ed40101f2ea&pf_rd_r=FQFM3FSV83EXGHHTK8YG&pd_rd_wg=6zkhY&pd_rd_r=ecd127c5-9b2c-456f-baae-bdb2ee071517&pd_rd_i=B0C7VYN5PV&th=1'\n",
        "output_filename = 'amazon_product_page.html'\n",
        "\n",
        "# Save the Amazon product page\n",
        "save_amazon_product_page(product_url, output_filename)\n"
      ],
      "metadata": {
        "colab": {
          "base_uri": "https://localhost:8080/"
        },
        "id": "XqvDJ3Zmj1kn",
        "outputId": "6d2813fa-ad75-432f-b0b6-8a3d6579c7b5"
      },
      "execution_count": null,
      "outputs": [
        {
          "output_type": "stream",
          "name": "stdout",
          "text": [
            "An error occurred: 503 Server Error: Service Unavailable for url: https://www.amazon.in/Friendly-settings-Sharpening-Cordless-Rechargeable/dp/B0C7VYN5PV/ref=zg_bsnr_c_hpc_sccl_1/259-0766209-5404203?pd_rd_w=otyXd&content-id=amzn1.sym.7dd29d48-66c1-486c-967d-2ed40101f2ea&pf_rd_p=7dd29d48-66c1-486c-967d-2ed40101f2ea&pf_rd_r=FQFM3FSV83EXGHHTK8YG&pd_rd_wg=6zkhY&pd_rd_r=ecd127c5-9b2c-456f-baae-bdb2ee071517&pd_rd_i=B0C7VYN5PV&th=1\n"
          ]
        }
      ]
    },
    {
      "cell_type": "code",
      "source": [
        "import requests\n",
        "\n",
        "def save_amazon_product_page(url, filename):\n",
        "    try:\n",
        "        # HTTP GET request\n",
        "        response = requests.get(url)\n",
        "        response.raise_for_status()  # Check for HTTP errors\n",
        "        with open(filename, 'w', encoding='utf-8') as file:\n",
        "            file.write(response.text)\n",
        "        print(f\"Amazon product page saved as {filename}\")\n",
        "    except Exception as e:\n",
        "        print(\"An error occurred:\", str(e))\n",
        "\n",
        "# Amazon product URL and filename\n",
        "product_url = 'https://www.amazon.in/Friendly-settings-Sharpening-Cordless-Rechargeable/dp/B0C7VYN5PV/ref=zg_bsnr_c_hpc_sccl_1/259-0766209-5404203?pd_rd_w=otyXd&content-id=amzn1.sym.7dd29d48-66c1-486c-967d-2ed40101f2ea&pf_rd_p=7dd29d48-66c1-486c-967d-2ed40101f2ea&pf_rd_r=FQFM3FSV83EXGHHTK8YG&pd_rd_wg=6zkhY&pd_rd_r=ecd127c5-9b2c-456f-baae-bdb2ee071517&pd_rd_i=B0C7VYN5PV&th=1'\n",
        "output_filename = 'amazon_product_page.html'\n",
        "\n",
        "# Save the Amazon product page\n",
        "save_amazon_product_page(product_url, output_filename)"
      ],
      "metadata": {
        "colab": {
          "base_uri": "https://localhost:8080/"
        },
        "id": "FnlfLaRwnMax",
        "outputId": "d6bfa6bc-a56b-4918-b95e-3ba1648e77eb"
      },
      "execution_count": null,
      "outputs": [
        {
          "output_type": "stream",
          "name": "stdout",
          "text": [
            "An error occurred: 503 Server Error: Service Unavailable for url: https://www.amazon.in/Friendly-settings-Sharpening-Cordless-Rechargeable/dp/B0C7VYN5PV/ref=zg_bsnr_c_hpc_sccl_1/259-0766209-5404203?pd_rd_w=otyXd&content-id=amzn1.sym.7dd29d48-66c1-486c-967d-2ed40101f2ea&pf_rd_p=7dd29d48-66c1-486c-967d-2ed40101f2ea&pf_rd_r=FQFM3FSV83EXGHHTK8YG&pd_rd_wg=6zkhY&pd_rd_r=ecd127c5-9b2c-456f-baae-bdb2ee071517&pd_rd_i=B0C7VYN5PV&th=1\n"
          ]
        }
      ]
    },
    {
      "cell_type": "code",
      "source": [
        "!pip install bs4"
      ],
      "metadata": {
        "colab": {
          "base_uri": "https://localhost:8080/"
        },
        "id": "bRZEl2LVCV-P",
        "outputId": "f6666f58-c28d-4688-d3ff-2301a8feec64"
      },
      "execution_count": null,
      "outputs": [
        {
          "output_type": "stream",
          "name": "stdout",
          "text": [
            "Collecting bs4\n",
            "  Downloading bs4-0.0.1.tar.gz (1.1 kB)\n",
            "  Preparing metadata (setup.py) ... \u001b[?25l\u001b[?25hdone\n",
            "Requirement already satisfied: beautifulsoup4 in /usr/local/lib/python3.10/dist-packages (from bs4) (4.11.2)\n",
            "Requirement already satisfied: soupsieve>1.2 in /usr/local/lib/python3.10/dist-packages (from beautifulsoup4->bs4) (2.4.1)\n",
            "Building wheels for collected packages: bs4\n",
            "  Building wheel for bs4 (setup.py) ... \u001b[?25l\u001b[?25hdone\n",
            "  Created wheel for bs4: filename=bs4-0.0.1-py3-none-any.whl size=1256 sha256=ec15cf7a39f3e2e0ee20bb5be56959bc46d32086da699b1de8458db0b7f4be2c\n",
            "  Stored in directory: /root/.cache/pip/wheels/25/42/45/b773edc52acb16cd2db4cf1a0b47117e2f69bb4eb300ed0e70\n",
            "Successfully built bs4\n",
            "Installing collected packages: bs4\n",
            "Successfully installed bs4-0.0.1\n"
          ]
        }
      ]
    },
    {
      "cell_type": "code",
      "source": [
        "!pip install requests"
      ],
      "metadata": {
        "colab": {
          "base_uri": "https://localhost:8080/"
        },
        "id": "7SaTR8A6CaGK",
        "outputId": "4c3503aa-3c93-4203-8f03-0cd04d3888e1"
      },
      "execution_count": null,
      "outputs": [
        {
          "output_type": "stream",
          "name": "stdout",
          "text": [
            "Requirement already satisfied: requests in /usr/local/lib/python3.10/dist-packages (2.31.0)\n",
            "Requirement already satisfied: charset-normalizer<4,>=2 in /usr/local/lib/python3.10/dist-packages (from requests) (3.2.0)\n",
            "Requirement already satisfied: idna<4,>=2.5 in /usr/local/lib/python3.10/dist-packages (from requests) (3.4)\n",
            "Requirement already satisfied: urllib3<3,>=1.21.1 in /usr/local/lib/python3.10/dist-packages (from requests) (2.0.4)\n",
            "Requirement already satisfied: certifi>=2017.4.17 in /usr/local/lib/python3.10/dist-packages (from requests) (2023.7.22)\n"
          ]
        }
      ]
    },
    {
      "cell_type": "code",
      "source": [
        "url = (\"https://www.amazon.in/Friendly-settings-Sharpening-Cordless-Rechargeable/dp/B0C7VYN5PV/ref=zg_bsnr_c_hpc_sccl_1/259-0766209-5404203?pd_rd_w=otyXd&content-id=amzn1.sym.7dd29d48-66c1-486c-967d-2ed40101f2ea&pf_rd_p=7dd29d48-66c1-486c-967d-2ed40101f2ea&pf_rd_r=FQFM3FSV83EXGHHTK8YG&pd_rd_wg=6zkhY&pd_rd_r=ecd127c5-9b2c-456f-baae-bdb2ee071517&pd_rd_i=B0C7VYN5PV&th=1\")"
      ],
      "metadata": {
        "id": "tu8SDd-5C92e"
      },
      "execution_count": null,
      "outputs": []
    },
    {
      "cell_type": "code",
      "source": [
        "# import module\n",
        "import requests\n",
        "from bs4 import BeautifulSoup\n",
        "\n",
        "HEADERS = ({'User-Agent':\n",
        "\t\t\t'Mozilla/5.0 (Windows NT 10.0; Win64; x64) \\\n",
        "\t\t\tAppleWebKit/537.36 (KHTML, like Gecko) \\\n",
        "\t\t\tChrome/90.0.4430.212 Safari/537.36',\n",
        "\t\t\t'Accept-Language': 'en-US, en;q=0.5'})\n",
        "\n",
        "# user define function\n",
        "# Scrape the data\n",
        "def getdata(url):\n",
        "\tr = requests.get(url, headers=HEADERS)\n",
        "\treturn r.text\n",
        "\n",
        "\n",
        "def html_code(url):\n",
        "\n",
        "\t# pass the url\n",
        "\t# into getdata function\n",
        "\thtmldata = getdata(url)\n",
        "\tsoup = BeautifulSoup(htmldata, 'html.parser')\n",
        "\n",
        "\t# display html code\n",
        "\treturn (soup)\n",
        "\n",
        "\n",
        "url = \"https://www.amazon.in/Friendly-settings-Sharpening-Cordless-Rechargeable/dp/B0C7VYN5PV/ref=zg_bsnr_c_hpc_sccl_1/259-0766209-5404203?pd_rd_w=otyXd&content-id=amzn1.sym.7dd29d48-66c1-486c-967d-2ed40101f2ea&pf_rd_p=7dd29d48-66c1-486c-967d-2ed40101f2ea&pf_rd_r=FQFM3FSV83EXGHHTK8YG&pd_rd_wg=6zkhY&pd_rd_r=ecd127c5-9b2c-456f-baae-bdb2ee071517&pd_rd_i=B0C7VYN5PV&th=1\"\n",
        "\n",
        "soup = html_code(url)\n",
        "print(soup)\n"
      ],
      "metadata": {
        "colab": {
          "base_uri": "https://localhost:8080/"
        },
        "id": "9kqbSzwIDLDi",
        "outputId": "4e3249ba-ad90-4185-f9cb-1e9ad6033c6e"
      },
      "execution_count": null,
      "outputs": [
        {
          "output_type": "stream",
          "name": "stdout",
          "text": [
            "<html>\n",
            "<head>\n",
            "<title>503 - Service Unavailable Error</title>\n",
            "</head>\n",
            "<body bgcolor=\"#FFFFFF\" text=\"#000000\">\n",
            "<!--\n",
            "        To discuss automated access to Amazon data please contact api-services-support@amazon.com.\n",
            "        For information about migrating to our APIs refer to our Marketplace APIs at https://developer.amazonservices.in/ref=rm_5_sv, or our Product Advertising API at https://affiliate-program.amazon.in/gp/advertising/api/detail/main.html/ref=rm_5_ac for advertising use cases.\n",
            "-->\n",
            "<center>\n",
            "<a href=\"https://www.amazon.in/ref=cs_503_logo/\">\n",
            "<img alt=\"Amazon.in\" border=\"0\" height=\"45\" src=\"https://images-eu.ssl-images-amazon.com/images/G/31/x-locale/communities/people/logo.gif\" width=\"200\"/></a>\n",
            "<p align=\"center\">\n",
            "<font face=\"Verdana,Arial,Helvetica\">\n",
            "<font color=\"#CC6600\" size=\"+2\"><b>Oops!</b></font><br/>\n",
            "<b>It's rush hour and traffic is piling up on that page. Please try again in a short while.<br/>If you were trying to place an order, it will not have been processed at this time.</b><p>\n",
            "<img alt=\"*\" border=\"0\" height=\"9\" src=\"https://images-eu.ssl-images-amazon.com/images/G/02/x-locale/common/orange-arrow.gif\" width=\"10\"/>\n",
            "<b><a href=\"https://www.amazon.in/ref=cs_503_link/\">Go to the Amazon.in home page to continue shopping</a></b>\n",
            "</p></font>\n",
            "</p></center>\n",
            "</body>\n",
            "</html>\n",
            "\n"
          ]
        }
      ]
    },
    {
      "cell_type": "code",
      "source": [
        "def cus_data(soup):\n",
        "\t# find the Html tag\n",
        "\t# with find()\n",
        "\t# and convert into string\n",
        "\tdata_str = \"\"\n",
        "\tcus_list = []\n",
        "\n",
        "\tfor item in soup.find_all(\"span\", class_=\"a-profile-name\"):\n",
        "\t\tdata_str = data_str + item.get_text()\n",
        "\t\tcus_list.append(data_str)\n",
        "\t\tdata_str = \"\"\n",
        "\treturn cus_list\n",
        "\n",
        "\n",
        "cus_res = cus_data(soup)\n",
        "print(cus_res)\n"
      ],
      "metadata": {
        "colab": {
          "base_uri": "https://localhost:8080/"
        },
        "id": "Wm_E71b8E9L_",
        "outputId": "b053ec18-6de9-45e7-8fbb-901ba335aa9f"
      },
      "execution_count": null,
      "outputs": [
        {
          "output_type": "stream",
          "name": "stdout",
          "text": [
            "[]\n"
          ]
        }
      ]
    },
    {
      "cell_type": "code",
      "source": [
        "def cus_rev(soup):\n",
        "\t# find the Html tag\n",
        "\t# with find()\n",
        "\t# and convert into string\n",
        "\tdata_str = \"\"\n",
        "\n",
        "\tfor item in soup.find_all(\"div\", class_=\"a-expander-content \\\n",
        "\treviewText review-text-content a-expander-partial-collapse-content\"):\n",
        "\t\tdata_str = data_str + item.get_text()\n",
        "\n",
        "\tresult = data_str.split(\"\\n\")\n",
        "\treturn (result)\n",
        "\n",
        "\n",
        "rev_data = cus_rev(soup)\n",
        "rev_result = []\n",
        "for i in rev_data:\n",
        "\tif i is \"\":\n",
        "\t\tpass\n",
        "\telse:\n",
        "\t\trev_result.append(i)\n",
        "rev_result\n"
      ],
      "metadata": {
        "colab": {
          "base_uri": "https://localhost:8080/"
        },
        "id": "214eMNL5FBpv",
        "outputId": "7dc30e49-8907-4b56-c5bd-530f128ad255"
      },
      "execution_count": null,
      "outputs": [
        {
          "output_type": "stream",
          "name": "stderr",
          "text": [
            "<>:18: SyntaxWarning: \"is\" with a literal. Did you mean \"==\"?\n",
            "<>:18: SyntaxWarning: \"is\" with a literal. Did you mean \"==\"?\n",
            "<ipython-input-6-800965eff8ee>:18: SyntaxWarning: \"is\" with a literal. Did you mean \"==\"?\n",
            "  if i is \"\":\n"
          ]
        },
        {
          "output_type": "execute_result",
          "data": {
            "text/plain": [
              "[]"
            ]
          },
          "metadata": {},
          "execution_count": 6
        }
      ]
    },
    {
      "cell_type": "code",
      "source": [
        "def product_info(soup):\n",
        "\n",
        "\t# find the Html tag\n",
        "\t# with find()\n",
        "\t# and convert into string\n",
        "\tdata_str = \"\"\n",
        "\tpro_info = []\n",
        "\n",
        "\tfor item in soup.find_all(\"ul\", class_=\"a-unordered-list a-nostyle\\\n",
        "\ta-vertical a-spacing-none detail-bullet-list\"):\n",
        "\t\tdata_str = data_str + item.get_text()\n",
        "\t\tpro_info.append(data_str.split(\"\\n\"))\n",
        "\t\tdata_str = \"\"\n",
        "\treturn pro_info\n",
        "\n",
        "\n",
        "pro_result = product_info(soup)\n",
        "\n",
        "# Filter the required data\n",
        "for item in pro_result:\n",
        "\tfor j in item:\n",
        "\t\tif j is \"\":\n",
        "\t\t\tpass\n",
        "\t\telse:\n",
        "\t\t\tprint(j)\n"
      ],
      "metadata": {
        "id": "82HUpHbxFGTV",
        "outputId": "461b7116-d23e-44ee-fb72-442a6ab68796",
        "colab": {
          "base_uri": "https://localhost:8080/"
        }
      },
      "execution_count": null,
      "outputs": [
        {
          "output_type": "stream",
          "name": "stderr",
          "text": [
            "<>:22: SyntaxWarning: \"is\" with a literal. Did you mean \"==\"?\n",
            "<>:22: SyntaxWarning: \"is\" with a literal. Did you mean \"==\"?\n",
            "<ipython-input-7-0e946976c27a>:22: SyntaxWarning: \"is\" with a literal. Did you mean \"==\"?\n",
            "  if j is \"\":\n"
          ]
        }
      ]
    },
    {
      "cell_type": "code",
      "source": [
        "!pip install selenium"
      ],
      "metadata": {
        "colab": {
          "base_uri": "https://localhost:8080/"
        },
        "id": "mGmgR5jwm1Vd",
        "outputId": "61811df0-be3b-479f-9a7e-19d2ac17366c"
      },
      "execution_count": null,
      "outputs": [
        {
          "output_type": "stream",
          "name": "stdout",
          "text": [
            "Collecting selenium\n",
            "  Downloading selenium-4.11.2-py3-none-any.whl (7.2 MB)\n",
            "\u001b[2K     \u001b[90m━━━━━━━━━━━━━━━━━━━━━━━━━━━━━━━━━━━━━━━━\u001b[0m \u001b[32m7.2/7.2 MB\u001b[0m \u001b[31m25.2 MB/s\u001b[0m eta \u001b[36m0:00:00\u001b[0m\n",
            "\u001b[?25hRequirement already satisfied: urllib3[socks]<3,>=1.26 in /usr/local/lib/python3.10/dist-packages (from selenium) (2.0.4)\n",
            "Collecting trio~=0.17 (from selenium)\n",
            "  Downloading trio-0.22.2-py3-none-any.whl (400 kB)\n",
            "\u001b[2K     \u001b[90m━━━━━━━━━━━━━━━━━━━━━━━━━━━━━━━━━━━━━━\u001b[0m \u001b[32m400.2/400.2 kB\u001b[0m \u001b[31m25.9 MB/s\u001b[0m eta \u001b[36m0:00:00\u001b[0m\n",
            "\u001b[?25hCollecting trio-websocket~=0.9 (from selenium)\n",
            "  Downloading trio_websocket-0.10.3-py3-none-any.whl (17 kB)\n",
            "Requirement already satisfied: certifi>=2021.10.8 in /usr/local/lib/python3.10/dist-packages (from selenium) (2023.7.22)\n",
            "Requirement already satisfied: attrs>=20.1.0 in /usr/local/lib/python3.10/dist-packages (from trio~=0.17->selenium) (23.1.0)\n",
            "Requirement already satisfied: sortedcontainers in /usr/local/lib/python3.10/dist-packages (from trio~=0.17->selenium) (2.4.0)\n",
            "Requirement already satisfied: idna in /usr/local/lib/python3.10/dist-packages (from trio~=0.17->selenium) (3.4)\n",
            "Collecting outcome (from trio~=0.17->selenium)\n",
            "  Downloading outcome-1.2.0-py2.py3-none-any.whl (9.7 kB)\n",
            "Requirement already satisfied: sniffio in /usr/local/lib/python3.10/dist-packages (from trio~=0.17->selenium) (1.3.0)\n",
            "Requirement already satisfied: exceptiongroup>=1.0.0rc9 in /usr/local/lib/python3.10/dist-packages (from trio~=0.17->selenium) (1.1.2)\n",
            "Collecting wsproto>=0.14 (from trio-websocket~=0.9->selenium)\n",
            "  Downloading wsproto-1.2.0-py3-none-any.whl (24 kB)\n",
            "Requirement already satisfied: pysocks!=1.5.7,<2.0,>=1.5.6 in /usr/local/lib/python3.10/dist-packages (from urllib3[socks]<3,>=1.26->selenium) (1.7.1)\n",
            "Collecting h11<1,>=0.9.0 (from wsproto>=0.14->trio-websocket~=0.9->selenium)\n",
            "  Downloading h11-0.14.0-py3-none-any.whl (58 kB)\n",
            "\u001b[2K     \u001b[90m━━━━━━━━━━━━━━━━━━━━━━━━━━━━━━━━━━━━━━━━\u001b[0m \u001b[32m58.3/58.3 kB\u001b[0m \u001b[31m4.6 MB/s\u001b[0m eta \u001b[36m0:00:00\u001b[0m\n",
            "\u001b[?25hInstalling collected packages: outcome, h11, wsproto, trio, trio-websocket, selenium\n",
            "Successfully installed h11-0.14.0 outcome-1.2.0 selenium-4.11.2 trio-0.22.2 trio-websocket-0.10.3 wsproto-1.2.0\n"
          ]
        }
      ]
    },
    {
      "cell_type": "code",
      "source": [
        "from selenium import webdriver\n",
        "from selenium.webdriver.common.by import By"
      ],
      "metadata": {
        "id": "KLXTZS_7m22p"
      },
      "execution_count": null,
      "outputs": []
    },
    {
      "cell_type": "code",
      "source": [
        "driver_path = \"C:/Users/hp/Downloads/chromedriver.exe\"\n",
        "driver = webdriver.Chrome(driver_path)  # Use Chrome, you can replace with other browser drivers"
      ],
      "metadata": {
        "colab": {
          "base_uri": "https://localhost:8080/",
          "height": 457
        },
        "id": "6UyunMIlm_Wl",
        "outputId": "8da9dedb-435e-42eb-9e15-b8da2abae25d"
      },
      "execution_count": null,
      "outputs": [
        {
          "output_type": "error",
          "ename": "AttributeError",
          "evalue": "ignored",
          "traceback": [
            "\u001b[0;31m---------------------------------------------------------------------------\u001b[0m",
            "\u001b[0;31mAttributeError\u001b[0m                            Traceback (most recent call last)",
            "\u001b[0;32m/usr/local/lib/python3.10/dist-packages/selenium/webdriver/common/driver_finder.py\u001b[0m in \u001b[0;36mget_path\u001b[0;34m(service, options)\u001b[0m\n\u001b[1;32m     37\u001b[0m         \u001b[0;32mtry\u001b[0m\u001b[0;34m:\u001b[0m\u001b[0;34m\u001b[0m\u001b[0;34m\u001b[0m\u001b[0m\n\u001b[0;32m---> 38\u001b[0;31m             \u001b[0mpath\u001b[0m \u001b[0;34m=\u001b[0m \u001b[0mSeleniumManager\u001b[0m\u001b[0;34m(\u001b[0m\u001b[0;34m)\u001b[0m\u001b[0;34m.\u001b[0m\u001b[0mdriver_location\u001b[0m\u001b[0;34m(\u001b[0m\u001b[0moptions\u001b[0m\u001b[0;34m)\u001b[0m \u001b[0;32mif\u001b[0m \u001b[0mpath\u001b[0m \u001b[0;32mis\u001b[0m \u001b[0;32mNone\u001b[0m \u001b[0;32melse\u001b[0m \u001b[0mpath\u001b[0m\u001b[0;34m\u001b[0m\u001b[0;34m\u001b[0m\u001b[0m\n\u001b[0m\u001b[1;32m     39\u001b[0m         \u001b[0;32mexcept\u001b[0m \u001b[0mException\u001b[0m \u001b[0;32mas\u001b[0m \u001b[0merr\u001b[0m\u001b[0;34m:\u001b[0m\u001b[0;34m\u001b[0m\u001b[0;34m\u001b[0m\u001b[0m\n",
            "\u001b[0;32m/usr/local/lib/python3.10/dist-packages/selenium/webdriver/common/selenium_manager.py\u001b[0m in \u001b[0;36mdriver_location\u001b[0;34m(self, options)\u001b[0m\n\u001b[1;32m     70\u001b[0m \u001b[0;34m\u001b[0m\u001b[0m\n\u001b[0;32m---> 71\u001b[0;31m         \u001b[0mbrowser\u001b[0m \u001b[0;34m=\u001b[0m \u001b[0moptions\u001b[0m\u001b[0;34m.\u001b[0m\u001b[0mcapabilities\u001b[0m\u001b[0;34m[\u001b[0m\u001b[0;34m\"browserName\"\u001b[0m\u001b[0;34m]\u001b[0m\u001b[0;34m\u001b[0m\u001b[0;34m\u001b[0m\u001b[0m\n\u001b[0m\u001b[1;32m     72\u001b[0m \u001b[0;34m\u001b[0m\u001b[0m\n",
            "\u001b[0;31mAttributeError\u001b[0m: 'str' object has no attribute 'capabilities'",
            "\nDuring handling of the above exception, another exception occurred:\n",
            "\u001b[0;31mAttributeError\u001b[0m                            Traceback (most recent call last)",
            "\u001b[0;32m<ipython-input-7-be4f98cf0ff6>\u001b[0m in \u001b[0;36m<cell line: 2>\u001b[0;34m()\u001b[0m\n\u001b[1;32m      1\u001b[0m \u001b[0mdriver_path\u001b[0m \u001b[0;34m=\u001b[0m \u001b[0;34m\"C:/Users/hp/Downloads/chromedriver.exe\"\u001b[0m\u001b[0;34m\u001b[0m\u001b[0;34m\u001b[0m\u001b[0m\n\u001b[0;32m----> 2\u001b[0;31m \u001b[0mdriver\u001b[0m \u001b[0;34m=\u001b[0m \u001b[0mwebdriver\u001b[0m\u001b[0;34m.\u001b[0m\u001b[0mChrome\u001b[0m\u001b[0;34m(\u001b[0m\u001b[0mdriver_path\u001b[0m\u001b[0;34m)\u001b[0m  \u001b[0;31m# Use Chrome, you can replace with other browser drivers\u001b[0m\u001b[0;34m\u001b[0m\u001b[0;34m\u001b[0m\u001b[0m\n\u001b[0m",
            "\u001b[0;32m/usr/local/lib/python3.10/dist-packages/selenium/webdriver/chrome/webdriver.py\u001b[0m in \u001b[0;36m__init__\u001b[0;34m(self, options, service, keep_alive)\u001b[0m\n\u001b[1;32m     43\u001b[0m         \u001b[0moptions\u001b[0m \u001b[0;34m=\u001b[0m \u001b[0moptions\u001b[0m \u001b[0;32mif\u001b[0m \u001b[0moptions\u001b[0m \u001b[0;32melse\u001b[0m \u001b[0mOptions\u001b[0m\u001b[0;34m(\u001b[0m\u001b[0;34m)\u001b[0m\u001b[0;34m\u001b[0m\u001b[0;34m\u001b[0m\u001b[0m\n\u001b[1;32m     44\u001b[0m \u001b[0;34m\u001b[0m\u001b[0m\n\u001b[0;32m---> 45\u001b[0;31m         super().__init__(\n\u001b[0m\u001b[1;32m     46\u001b[0m             \u001b[0mDesiredCapabilities\u001b[0m\u001b[0;34m.\u001b[0m\u001b[0mCHROME\u001b[0m\u001b[0;34m[\u001b[0m\u001b[0;34m\"browserName\"\u001b[0m\u001b[0;34m]\u001b[0m\u001b[0;34m,\u001b[0m\u001b[0;34m\u001b[0m\u001b[0;34m\u001b[0m\u001b[0m\n\u001b[1;32m     47\u001b[0m             \u001b[0;34m\"goog\"\u001b[0m\u001b[0;34m,\u001b[0m\u001b[0;34m\u001b[0m\u001b[0;34m\u001b[0m\u001b[0m\n",
            "\u001b[0;32m/usr/local/lib/python3.10/dist-packages/selenium/webdriver/chromium/webdriver.py\u001b[0m in \u001b[0;36m__init__\u001b[0;34m(self, browser_name, vendor_prefix, options, service, keep_alive)\u001b[0m\n\u001b[1;32m     49\u001b[0m         \u001b[0mself\u001b[0m\u001b[0;34m.\u001b[0m\u001b[0mservice\u001b[0m \u001b[0;34m=\u001b[0m \u001b[0mservice\u001b[0m\u001b[0;34m\u001b[0m\u001b[0;34m\u001b[0m\u001b[0m\n\u001b[1;32m     50\u001b[0m \u001b[0;34m\u001b[0m\u001b[0m\n\u001b[0;32m---> 51\u001b[0;31m         \u001b[0mself\u001b[0m\u001b[0;34m.\u001b[0m\u001b[0mservice\u001b[0m\u001b[0;34m.\u001b[0m\u001b[0mpath\u001b[0m \u001b[0;34m=\u001b[0m \u001b[0mDriverFinder\u001b[0m\u001b[0;34m.\u001b[0m\u001b[0mget_path\u001b[0m\u001b[0;34m(\u001b[0m\u001b[0mself\u001b[0m\u001b[0;34m.\u001b[0m\u001b[0mservice\u001b[0m\u001b[0;34m,\u001b[0m \u001b[0moptions\u001b[0m\u001b[0;34m)\u001b[0m\u001b[0;34m\u001b[0m\u001b[0;34m\u001b[0m\u001b[0m\n\u001b[0m\u001b[1;32m     52\u001b[0m \u001b[0;34m\u001b[0m\u001b[0m\n\u001b[1;32m     53\u001b[0m         \u001b[0mself\u001b[0m\u001b[0;34m.\u001b[0m\u001b[0mservice\u001b[0m\u001b[0;34m.\u001b[0m\u001b[0mstart\u001b[0m\u001b[0;34m(\u001b[0m\u001b[0;34m)\u001b[0m\u001b[0;34m\u001b[0m\u001b[0;34m\u001b[0m\u001b[0m\n",
            "\u001b[0;32m/usr/local/lib/python3.10/dist-packages/selenium/webdriver/common/driver_finder.py\u001b[0m in \u001b[0;36mget_path\u001b[0;34m(service, options)\u001b[0m\n\u001b[1;32m     38\u001b[0m             \u001b[0mpath\u001b[0m \u001b[0;34m=\u001b[0m \u001b[0mSeleniumManager\u001b[0m\u001b[0;34m(\u001b[0m\u001b[0;34m)\u001b[0m\u001b[0;34m.\u001b[0m\u001b[0mdriver_location\u001b[0m\u001b[0;34m(\u001b[0m\u001b[0moptions\u001b[0m\u001b[0;34m)\u001b[0m \u001b[0;32mif\u001b[0m \u001b[0mpath\u001b[0m \u001b[0;32mis\u001b[0m \u001b[0;32mNone\u001b[0m \u001b[0;32melse\u001b[0m \u001b[0mpath\u001b[0m\u001b[0;34m\u001b[0m\u001b[0;34m\u001b[0m\u001b[0m\n\u001b[1;32m     39\u001b[0m         \u001b[0;32mexcept\u001b[0m \u001b[0mException\u001b[0m \u001b[0;32mas\u001b[0m \u001b[0merr\u001b[0m\u001b[0;34m:\u001b[0m\u001b[0;34m\u001b[0m\u001b[0;34m\u001b[0m\u001b[0m\n\u001b[0;32m---> 40\u001b[0;31m             \u001b[0mmsg\u001b[0m \u001b[0;34m=\u001b[0m \u001b[0;34mf\"Unable to obtain driver for {options.capabilities['browserName']} using Selenium Manager.\"\u001b[0m\u001b[0;34m\u001b[0m\u001b[0;34m\u001b[0m\u001b[0m\n\u001b[0m\u001b[1;32m     41\u001b[0m             \u001b[0;32mraise\u001b[0m \u001b[0mNoSuchDriverException\u001b[0m\u001b[0;34m(\u001b[0m\u001b[0mmsg\u001b[0m\u001b[0;34m)\u001b[0m \u001b[0;32mfrom\u001b[0m \u001b[0merr\u001b[0m\u001b[0;34m\u001b[0m\u001b[0;34m\u001b[0m\u001b[0m\n\u001b[1;32m     42\u001b[0m \u001b[0;34m\u001b[0m\u001b[0m\n",
            "\u001b[0;31mAttributeError\u001b[0m: 'str' object has no attribute 'capabilities'"
          ]
        }
      ]
    }
  ]
}