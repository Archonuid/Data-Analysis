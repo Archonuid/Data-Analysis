{
  "nbformat": 4,
  "nbformat_minor": 0,
  "metadata": {
    "colab": {
      "provenance": []
    },
    "kernelspec": {
      "name": "python3",
      "display_name": "Python 3"
    },
    "language_info": {
      "name": "python"
    }
  },
  "cells": [
    {
      "cell_type": "markdown",
      "source": [
        "# **Impact of Outliers on the machine learning model**"
      ],
      "metadata": {
        "id": "HLTJo3sJ3isQ"
      }
    },
    {
      "cell_type": "code",
      "source": [
        "import pandas as pd\n",
        "import numpy as np\n",
        "import seaborn as sns\n",
        "import matplotlib.pyplot as plt"
      ],
      "metadata": {
        "id": "T-lqrtX-3hSY"
      },
      "execution_count": null,
      "outputs": []
    },
    {
      "cell_type": "code",
      "source": [
        "from google.colab import drive\n",
        "drive.mount('/content/drive')"
      ],
      "metadata": {
        "colab": {
          "base_uri": "https://localhost:8080/"
        },
        "id": "WNFASvsdquhU",
        "outputId": "cc582632-45fe-4a3c-c952-f4dc4ad33a3e"
      },
      "execution_count": null,
      "outputs": [
        {
          "output_type": "stream",
          "name": "stdout",
          "text": [
            "Mounted at /content/drive\n"
          ]
        }
      ]
    },
    {
      "cell_type": "code",
      "source": [
        "df=pd.read_csv('/content/drive/MyDrive/practise/housing.csv')"
      ],
      "metadata": {
        "id": "H8lFP6JOQJ36"
      },
      "execution_count": null,
      "outputs": []
    },
    {
      "cell_type": "markdown",
      "source": [
        "## **Outlier Detection:**"
      ],
      "metadata": {
        "id": "E_1U2Mki4UnY"
      }
    },
    {
      "cell_type": "code",
      "source": [
        "#Detecting Outliers using Z-score:\n",
        "from scipy import stats\n",
        "z_scores = stats.zscore(df)\n",
        "abs_z_scores = abs(z_scores)\n",
        "outliers = (abs_z_scores > 3).all(axis=1)\n",
        "outlier_indices = df.index[outliers]"
      ],
      "metadata": {
        "id": "sosLr9mgQRR-"
      },
      "execution_count": null,
      "outputs": []
    },
    {
      "cell_type": "code",
      "source": [
        " #Detecting Outliers using IQR (Interquartile Range) method:\n",
        "Q1 = df.quantile(0.25)\n",
        "Q3 = df.quantile(0.75)\n",
        "IQR = Q3 - Q1\n",
        "outliers = ((df < (Q1 - 1.5 * IQR)) | (df > (Q3 + 1.5 * IQR))).any(axis=1)\n",
        "df_cleaned = df[~outliers]\n"
      ],
      "metadata": {
        "id": "kofZETNVQcOW"
      },
      "execution_count": null,
      "outputs": []
    },
    {
      "cell_type": "code",
      "source": [
        "#Using boxplot:\n",
        "sns.boxplot(df)"
      ],
      "metadata": {
        "colab": {
          "base_uri": "https://localhost:8080/",
          "height": 447
        },
        "id": "kYDztb45Qfdf",
        "outputId": "96426a6b-7bbc-4107-878d-7c54443cf80b"
      },
      "execution_count": null,
      "outputs": [
        {
          "output_type": "execute_result",
          "data": {
            "text/plain": [
              "<Axes: >"
            ]
          },
          "metadata": {},
          "execution_count": 9
        },
        {
          "output_type": "display_data",
          "data": {
            "text/plain": [
              "<Figure size 640x480 with 1 Axes>"
            ],
            "image/png": "[encoded data removed]"
          },
          "metadata": {}
        }
      ]
    },
    {
      "cell_type": "code",
      "source": [
        "df.dropna(inplace=True)"
      ],
      "metadata": {
        "id": "ltf8tuJDRycy"
      },
      "execution_count": null,
      "outputs": []
    },
    {
      "cell_type": "markdown",
      "source": [
        "## **Handling outliers**"
      ],
      "metadata": {
        "id": "HsjEBkMg4r3Z"
      }
    },
    {
      "cell_type": "code",
      "source": [
        "#Handling Outliers:\n",
        "# Option 1: Remove rows with outliers\n",
        "df_cleaned = df.drop(index=outlier_indices)"
      ],
      "metadata": {
        "id": "Av9ywk12QoXr"
      },
      "execution_count": null,
      "outputs": []
    },
    {
      "cell_type": "code",
      "source": [
        "#Building model using above data\n",
        "import pandas as pd\n",
        "from sklearn.model_selection import train_test_split\n",
        "from sklearn.linear_model import LinearRegression\n",
        "from sklearn.metrics import mean_squared_error, r2_score\n",
        "\n",
        "# Separate features (X) and target (y)\n",
        "X = df_cleaned[['LSTAT','RM','TAX','PTRATIO','INDUS']]\n",
        "y = df_cleaned['MEDV']\n",
        "\n",
        "# Split the data into training and test sets\n",
        "X_train, X_test, y_train, y_test = train_test_split(X, y, test_size=0.2, random_state=1234)\n",
        "\n",
        "# Build the linear regression model\n",
        "model = LinearRegression()\n",
        "\n",
        "# Train the model\n",
        "model.fit(X_train, y_train)\n",
        "\n",
        "# Predict on the training and test datasets\n",
        "y_train_pred = model.predict(X_train)\n",
        "y_test_pred = model.predict(X_test)\n",
        "\n",
        "# Evaluate the model\n",
        "train_mse = mean_squared_error(y_train, y_train_pred)\n",
        "test_mse = mean_squared_error(y_test, y_test_pred)\n",
        "\n",
        "train_r2 = r2_score(y_train, y_train_pred)\n",
        "test_r2 = r2_score(y_test, y_test_pred)\n",
        "\n",
        "print(\"Training MSE:\", train_mse)\n",
        "print(\"Test MSE:\", test_mse)\n",
        "print(\"Training R^2:\", train_r2)\n",
        "print(\"Test R^2:\", test_r2)\n"
      ],
      "metadata": {
        "colab": {
          "base_uri": "https://localhost:8080/"
        },
        "id": "DxGruZV8RjO0",
        "outputId": "a7cf97b0-1789-40f2-8f34-dc1288cff0ed"
      },
      "execution_count": null,
      "outputs": [
        {
          "output_type": "stream",
          "name": "stdout",
          "text": [
            "Training MSE: 28.03604132711133\n",
            "Test MSE: 23.91146798237936\n",
            "Training R^2: 0.6484164138848482\n",
            "Test R^2: 0.7670556235421719\n"
          ]
        }
      ]
    },
    {
      "cell_type": "markdown",
      "source": [
        "In the 'underfitting'  notebook we had built the model without removing outliers. And observed the following:<br> Train accuracy:  0.6484164138848482\n",
        "Test accuracy:  0.7670556235421719 <br>\n",
        "We observe that the accuracy has slightly improved."
      ],
      "metadata": {
        "id": "WdONTgVR4z_I"
      }
    }
  ]
}