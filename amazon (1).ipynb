{
 "cells": [
  {
   "cell_type": "code",
   "execution_count": 1,
   "id": "b1a43a7b",
   "metadata": {},
   "outputs": [
    {
     "name": "stdout",
     "output_type": "stream",
     "text": [
      "Requirement already satisfied: selenium in c:\\users\\hp\\appdata\\local\\programs\\python\\python39\\lib\\site-packages (4.11.2)\n",
      "Requirement already satisfied: urllib3[socks]<3,>=1.26 in c:\\users\\hp\\appdata\\local\\programs\\python\\python39\\lib\\site-packages (from selenium) (2.0.3)\n",
      "Requirement already satisfied: trio~=0.17 in c:\\users\\hp\\appdata\\local\\programs\\python\\python39\\lib\\site-packages (from selenium) (0.22.2)\n",
      "Requirement already satisfied: trio-websocket~=0.9 in c:\\users\\hp\\appdata\\local\\programs\\python\\python39\\lib\\site-packages (from selenium) (0.10.3)\n",
      "Requirement already satisfied: certifi>=2021.10.8 in c:\\users\\hp\\appdata\\local\\programs\\python\\python39\\lib\\site-packages (from selenium) (2023.5.7)\n",
      "Requirement already satisfied: attrs>=20.1.0 in c:\\users\\hp\\appdata\\local\\programs\\python\\python39\\lib\\site-packages (from trio~=0.17->selenium) (22.1.0)\n",
      "Requirement already satisfied: sortedcontainers in c:\\users\\hp\\appdata\\local\\programs\\python\\python39\\lib\\site-packages (from trio~=0.17->selenium) (2.4.0)\n",
      "Requirement already satisfied: idna in c:\\users\\hp\\appdata\\local\\programs\\python\\python39\\lib\\site-packages (from trio~=0.17->selenium) (3.4)\n",
      "Requirement already satisfied: outcome in c:\\users\\hp\\appdata\\local\\programs\\python\\python39\\lib\\site-packages (from trio~=0.17->selenium) (1.2.0)\n",
      "Requirement already satisfied: sniffio in c:\\users\\hp\\appdata\\local\\programs\\python\\python39\\lib\\site-packages (from trio~=0.17->selenium) (1.3.0)\n",
      "Requirement already satisfied: cffi>=1.14 in c:\\users\\hp\\appdata\\local\\programs\\python\\python39\\lib\\site-packages (from trio~=0.17->selenium) (1.14.5)\n",
      "Requirement already satisfied: exceptiongroup>=1.0.0rc9 in c:\\users\\hp\\appdata\\local\\programs\\python\\python39\\lib\\site-packages (from trio~=0.17->selenium) (1.1.1)\n",
      "Requirement already satisfied: wsproto>=0.14 in c:\\users\\hp\\appdata\\local\\programs\\python\\python39\\lib\\site-packages (from trio-websocket~=0.9->selenium) (1.2.0)\n",
      "Requirement already satisfied: pysocks!=1.5.7,<2.0,>=1.5.6 in c:\\users\\hp\\appdata\\local\\programs\\python\\python39\\lib\\site-packages (from urllib3[socks]<3,>=1.26->selenium) (1.7.1)\n",
      "Requirement already satisfied: pycparser in c:\\users\\hp\\appdata\\local\\programs\\python\\python39\\lib\\site-packages (from cffi>=1.14->trio~=0.17->selenium) (2.20)\n",
      "Requirement already satisfied: h11<1,>=0.9.0 in c:\\users\\hp\\appdata\\local\\programs\\python\\python39\\lib\\site-packages (from wsproto>=0.14->trio-websocket~=0.9->selenium) (0.14.0)\n"
     ]
    }
   ],
   "source": [
    "!pip install selenium"
   ]
  },
  {
   "cell_type": "code",
   "execution_count": 2,
   "id": "b73c303e",
   "metadata": {},
   "outputs": [
    {
     "name": "stdout",
     "output_type": "stream",
     "text": [
      "Requirement already satisfied: pip in c:\\users\\hp\\appdata\\local\\programs\\python\\python39\\lib\\site-packages (23.2.1)\n",
      "Note: you may need to restart the kernel to use updated packages.\n"
     ]
    }
   ],
   "source": [
    "pip install --upgrade pip"
   ]
  },
  {
   "cell_type": "code",
   "execution_count": 3,
   "id": "1c9c77d2",
   "metadata": {},
   "outputs": [
    {
     "name": "stdout",
     "output_type": "stream",
     "text": [
      "Requirement already satisfied: selenium in c:\\users\\hp\\appdata\\local\\programs\\python\\python39\\lib\\site-packages (4.11.2)\n",
      "Requirement already satisfied: chromedriver_autoinstaller in c:\\users\\hp\\appdata\\local\\programs\\python\\python39\\lib\\site-packages (0.6.2)\n",
      "Requirement already satisfied: urllib3[socks]<3,>=1.26 in c:\\users\\hp\\appdata\\local\\programs\\python\\python39\\lib\\site-packages (from selenium) (2.0.3)\n",
      "Requirement already satisfied: trio~=0.17 in c:\\users\\hp\\appdata\\local\\programs\\python\\python39\\lib\\site-packages (from selenium) (0.22.2)\n",
      "Requirement already satisfied: trio-websocket~=0.9 in c:\\users\\hp\\appdata\\local\\programs\\python\\python39\\lib\\site-packages (from selenium) (0.10.3)\n",
      "Requirement already satisfied: certifi>=2021.10.8 in c:\\users\\hp\\appdata\\local\\programs\\python\\python39\\lib\\site-packages (from selenium) (2023.5.7)\n",
      "Requirement already satisfied: attrs>=20.1.0 in c:\\users\\hp\\appdata\\local\\programs\\python\\python39\\lib\\site-packages (from trio~=0.17->selenium) (22.1.0)\n",
      "Requirement already satisfied: sortedcontainers in c:\\users\\hp\\appdata\\local\\programs\\python\\python39\\lib\\site-packages (from trio~=0.17->selenium) (2.4.0)\n",
      "Requirement already satisfied: idna in c:\\users\\hp\\appdata\\local\\programs\\python\\python39\\lib\\site-packages (from trio~=0.17->selenium) (3.4)\n",
      "Requirement already satisfied: outcome in c:\\users\\hp\\appdata\\local\\programs\\python\\python39\\lib\\site-packages (from trio~=0.17->selenium) (1.2.0)\n",
      "Requirement already satisfied: sniffio in c:\\users\\hp\\appdata\\local\\programs\\python\\python39\\lib\\site-packages (from trio~=0.17->selenium) (1.3.0)\n",
      "Requirement already satisfied: cffi>=1.14 in c:\\users\\hp\\appdata\\local\\programs\\python\\python39\\lib\\site-packages (from trio~=0.17->selenium) (1.14.5)\n",
      "Requirement already satisfied: exceptiongroup>=1.0.0rc9 in c:\\users\\hp\\appdata\\local\\programs\\python\\python39\\lib\\site-packages (from trio~=0.17->selenium) (1.1.1)\n",
      "Requirement already satisfied: wsproto>=0.14 in c:\\users\\hp\\appdata\\local\\programs\\python\\python39\\lib\\site-packages (from trio-websocket~=0.9->selenium) (1.2.0)\n",
      "Requirement already satisfied: pysocks!=1.5.7,<2.0,>=1.5.6 in c:\\users\\hp\\appdata\\local\\programs\\python\\python39\\lib\\site-packages (from urllib3[socks]<3,>=1.26->selenium) (1.7.1)\n",
      "Requirement already satisfied: pycparser in c:\\users\\hp\\appdata\\local\\programs\\python\\python39\\lib\\site-packages (from cffi>=1.14->trio~=0.17->selenium) (2.20)\n",
      "Requirement already satisfied: h11<1,>=0.9.0 in c:\\users\\hp\\appdata\\local\\programs\\python\\python39\\lib\\site-packages (from wsproto>=0.14->trio-websocket~=0.9->selenium) (0.14.0)\n",
      "Note: you may need to restart the kernel to use updated packages.\n"
     ]
    }
   ],
   "source": [
    "pip install selenium chromedriver_autoinstaller"
   ]
  },
  {
   "cell_type": "code",
   "execution_count": 1,
   "id": "7a747ace",
   "metadata": {},
   "outputs": [],
   "source": [
    "from selenium import webdriver\n",
    "from selenium.webdriver.common.by import By"
   ]
  },
  {
   "cell_type": "code",
   "execution_count": 2,
   "id": "9f4e3fb1",
   "metadata": {},
   "outputs": [],
   "source": [
    "driver = webdriver.Chrome() "
   ]
  },
  {
   "cell_type": "code",
   "execution_count": 4,
   "id": "045feafc",
   "metadata": {},
   "outputs": [],
   "source": [
    "import time\n",
    "import chromedriver_autoinstaller\n",
    "from selenium import webdriver\n",
    "from selenium.webdriver.chrome.options import Options\n",
    "from selenium.webdriver.common.by import By\n",
    "from selenium.webdriver.common.keys import Keys"
   ]
  },
  {
   "cell_type": "code",
   "execution_count": 5,
   "id": "574cdde5",
   "metadata": {},
   "outputs": [
    {
     "name": "stderr",
     "output_type": "stream",
     "text": [
      "WARNING:root:Can not find chromedriver for currently installed chrome version.\n"
     ]
    }
   ],
   "source": [
    "chromedriver_autoinstaller.install()  # Install ChromeDriver if not found\n",
    "driver = webdriver.Chrome()"
   ]
  },
  {
   "cell_type": "code",
   "execution_count": 6,
   "id": "cb18c780",
   "metadata": {},
   "outputs": [],
   "source": [
    "chrome_options = Options()\n",
    "chrome_options.add_argument(\"--headless\")"
   ]
  },
  {
   "cell_type": "code",
   "execution_count": 17,
   "id": "8d28c289",
   "metadata": {},
   "outputs": [],
   "source": [
    "product_url = \"https://www.amazon.in/Friendly-settings-Sharpening-Cordless-Rechargeable/dp/B0C7VYN5PV/ref=zg_bsnr_c_hpc_sccl_1/259-0766209-5404203?pd_rd_w=otyXd&content-id=amzn1.sym.7dd29d48-66c1-486c-967d-2ed40101f2ea&pf_rd_p=7dd29d48-66c1-486c-967d-2ed40101f2ea&pf_rd_r=FQFM3FSV83EXGHHTK8YG&pd_rd_wg=6zkhY&pd_rd_r=ecd127c5-9b2c-456f-baae-bdb2ee071517&pd_rd_i=B0C7VYN5PV&psc=1\"\n",
    "driver.get(product_url)"
   ]
  },
  {
   "cell_type": "code",
   "execution_count": 18,
   "id": "165e92f5",
   "metadata": {},
   "outputs": [],
   "source": [
    "scroll_count = 9  # Adjust the number of scrolls as needed\n",
    "for _ in range(scroll_count):\n",
    "    driver.find_element(By.TAG_NAME, \"body\").send_keys(Keys.PAGE_DOWN)\n",
    "    time.sleep(2)  # Wait for a moment after scrolling"
   ]
  },
  {
   "cell_type": "code",
   "execution_count": 19,
   "id": "03f2218b",
   "metadata": {},
   "outputs": [],
   "source": [
    "name_elements = driver.find_elements(By.CSS_SELECTOR, \".a-profile-name\")\n",
    "rating_elements = driver.find_elements(By.CSS_SELECTOR, \".a-icon-alt\")\n",
    "review_elements = driver.find_elements(By.CSS_SELECTOR, \".review-text-content span\")"
   ]
  },
  {
   "cell_type": "code",
   "execution_count": 21,
   "id": "a5e4eb69",
   "metadata": {},
   "outputs": [
    {
     "name": "stdout",
     "output_type": "stream",
     "text": [
      "Name: \n",
      "Rating: 4.2 out of 5 stars\n",
      "Review: I recently purchased the Philips Trimmer 3000 Series, and I must say, I am thoroughly impressed with my initial experience. Right from the moment I received the product, everything has been top-notch. The packaging was sturdy and ensured that the trimmer arrived in perfect condition.\n",
      "\n",
      "What caught my attention was the behavior of the delivery person. They were not only polite but also added a touch of humor to the interaction, making the whole experience pleasant. Kudos to the delivery team for their professionalism.\n",
      "\n",
      "Moving on to the product itself, I have used the Philips Trimmer 3000 Series four times since receiving it, and I have no complaints so far. The trimmer is functioning exceptionally well, providing me with a precise and comfortable trimming experience. The blades are sharp and cut through hair effortlessly, allowing me to achieve the desired style with ease.\n",
      "\n",
      "One aspect that I particularly appreciate about this trimmer is its ease of use. The design is ergonomic, making it comfortable to hold and maneuver. It feels sturdy and well-built, assuring me of its durability. Additionally, the trimmer is cordless, which adds to the convenience factor, allowing me to trim my beard or style my hair without any restrictions.\n",
      "\n",
      "The battery life of the Philips Trimmer 3000 Series has also been impressive. I have used it for multiple sessions, and it has not shown any signs of running out of power. The battery charges quickly, ensuring minimal downtime between grooming sessions.\n",
      "\n",
      "At this point, I have not encountered any faults or issues with the trimmer. However, I will continue to use it, and if I come across any concerns or problems, I will update my review accordingly. But as of now, I am extremely satisfied with my purchase and can confidently recommend the Philips Trimmer 3000 Series to others who are looking for a reliable grooming tool.\n",
      "\n",
      "In conclusion, the Philips Trimmer 3000 Series has exceeded my expectations. From the moment I received it, the overall experience has been excellent. The packing was well-done, and the delivery person was polite and humorous. The trimmer itself has proven to be a reliable and efficient grooming companion. Its ease of use, durability, and impressive battery life make it a standout product in its category. If you're in the market for a trimmer, the Philips Trimmer 3000 Series is definitely worth considering.\n",
      "------------------------------\n",
      "Name: Beard bro\n",
      "Rating: Previous page\n",
      "Review: After 3 years later I am reviewing this product. This is cost me 1300₹ from a seller Cloudtail. Not fault till now working properly the trimmer itself and charger. But battery capacity is not good,it not last long for clean-save.. Otherwise it's a good product from reputed brand, at the other hand Chinese trimmer are there those are coming with in low price and attractive features but 50-50 chances they may faulty near future if you are lucky then it last long.\n",
      "------------------------------\n",
      "Name: \n",
      "Rating: Next page\n",
      "Review: A budget friendly trimmer, multi-trimmer head setup which are more than enough for your daily usage and covers the necessity. It moves like a butter on the pan no need for multiple strokes if charged properly only thing \"missing is a LED indicator for charge status\" physically need to monitor the charge time by some timer, otherwise does the job pretty well :)\n",
      "------------------------------\n",
      "Name: Akash Ballabh Bagh\n",
      "Rating: Previous page\n",
      "Review: Hi, Product is easy to use. And value for money.\n",
      "------------------------------\n",
      "Name: \n",
      "Rating: Next page\n",
      "Review: Good product, delivered on time\n",
      "------------------------------\n",
      "Name: Dinesh\n",
      "Rating: Previous page\n",
      "Review: Product is nice. Design is suprb, fast charging... 15 min for one time use and 1.5hr for 1hr use. Charging indicator is Good and I loved it, ❤️\n",
      "------------------------------\n",
      "Name: Praveen Kumar\n",
      "Rating: 4.2 out of 5 stars\n",
      "Review: Very good product.. Nice battery...\n",
      "------------------------------\n",
      "Name: Anu Chaudhary\n",
      "Rating: 4.3 out of 5 stars\n",
      "Review: I feel that the Philips BT3203/15 cordless rechargeable Beard Trimmer is a fantastic grooming tool that has revolutionized my beard-trimming routine. With its impressive features and user-friendly design, it has made the entire process convenient and hassle-free.\n",
      "- The Philips BT3203/15 cordless rechargeable Beard Trimmer is a fantastic grooming tool that has revolutionized my beard-trimming routine. With its impressive features and user-friendly design, it has made the entire process convenient and hassle-free.\n",
      "- Using the trimmer is a breeze thanks to its cordless functionality. I can effortlessly move around without the restrictions of a cord, making the trimming experience much more comfortable. The automatic voltage feature (100-240V) is an added convenience, allowing me to use the trimmer anywhere in the world\n",
      "- The Lift and Cut System is a game-changer, trimming my beard faster compared to other trimmers. This time-saving feature is a blessing, especially during busy mornings or when I'm in a rush.\n",
      "\n",
      "I would suggest you to not think twice before buying this product :)\n",
      "------------------------------\n",
      "Error: Index out of range for some elements.\n",
      "Error: Index out of range for some elements.\n",
      "Error: Index out of range for some elements.\n",
      "Error: Index out of range for some elements.\n"
     ]
    }
   ],
   "source": [
    "# Assuming name_elements, rating_elements, and review_elements have been collected appropriately\n",
    "# Reviews\n",
    "\n",
    "for i in range(len(name_elements)):\n",
    "    try:\n",
    "        name = name_elements[i].text\n",
    "        rating = rating_elements[i].get_attribute(\"innerHTML\")\n",
    "        review_text = review_elements[i].text\n",
    "\n",
    "        print(\"Name:\", name)\n",
    "        print(\"Rating:\", rating)\n",
    "        print(\"Review:\", review_text)\n",
    "        print(\"-\" * 30)\n",
    "    except IndexError:\n",
    "        print(\"Error: Index out of range for some elements.\")\n"
   ]
  },
  {
   "cell_type": "code",
   "execution_count": 30,
   "id": "52dd7bcf",
   "metadata": {},
   "outputs": [
    {
     "name": "stdout",
     "output_type": "stream",
     "text": [
      "Product Description: This new Philips Skin-friendly Beard Trimmer with 60 min run time features new Lift & Trim system and lasts 4 weeks in a single charge. Its ergonomic design makes it comfortable to hold and use. The self-sharpening steel blades stay as sharp and effective as on day 1 to deliver a perfect yet protective trim, time after time. Accessories: Adjustable comb, Cleaning Brush and USB Cable for charging) . 3 years warranty - 2 years standard world-wide warranty; additional 1 year warranty upon registration on the Philips website\n"
     ]
    }
   ],
   "source": [
    "# Description\n",
    "\n",
    "from selenium import webdriver\n",
    "from selenium.webdriver.chrome.options import Options\n",
    "\n",
    "# Set up Chrome WebDriver\n",
    "chrome_options = Options()\n",
    "chrome_options.add_argument(\"--headless\")  # To run Chrome in headless mode (no visible window)\n",
    "driver = webdriver.Chrome(options=chrome_options)\n",
    "\n",
    "# URL of the Amazon.in product page\n",
    "product_url = \"https://www.amazon.in/Friendly-settings-Sharpening-Cordless-Rechargeable/dp/B0C7VYN5PV/ref=zg_bsnr_c_hpc_sccl_1/259-0766209-5404203?pd_rd_w=otyXd&content-id=amzn1.sym.7dd29d48-66c1-486c-967d-2ed40101f2ea&pf_rd_p=7dd29d48-66c1-486c-967d-2ed40101f2ea&pf_rd_r=FQFM3FSV83EXGHHTK8YG&pd_rd_wg=6zkhY&pd_rd_r=ecd127c5-9b2c-456f-baae-bdb2ee071517&pd_rd_i=B0C7VYN5PV&th=1\"\n",
    "\n",
    "# Navigate to the product page\n",
    "driver.get(product_url)\n",
    "\n",
    "scroll_count = 3  # Adjust the number of scrolls as needed\n",
    "for _ in range(scroll_count):\n",
    "    driver.find_element(By.TAG_NAME, \"body\").send_keys(Keys.PAGE_DOWN)\n",
    "    time.sleep(2)  # Wait for a moment after scrolling\n",
    "try:\n",
    "    # Locate the product description element by ID\n",
    "    description_element = driver.find_element(By.ID, \"productDescription\")\n",
    "\n",
    "    # Extract the product description text\n",
    "    description_text = description_element.text\n",
    "\n",
    "    # Print or use the product description\n",
    "    print(\"Product Description:\", description_text)\n",
    "\n",
    "except Exception as e:\n",
    "    print(\"Error:\", str(e))\n",
    "\n",
    "finally:\n",
    "    # Close the WebDriver (browser)\n",
    "    driver.quit()\n"
   ]
  },
  {
   "cell_type": "code",
   "execution_count": 31,
   "id": "9ff0a678",
   "metadata": {},
   "outputs": [
    {
     "name": "stdout",
     "output_type": "stream",
     "text": [
      "Error: Message: no such element: Unable to locate element: {\"method\":\"css selector\",\"selector\":\".imgTagWrapper img\"}\n",
      "  (Session info: headless chrome=116.0.5845.141); For documentation on this error, please visit: https://www.selenium.dev/documentation/webdriver/troubleshooting/errors#no-such-element-exception\n",
      "Stacktrace:\n",
      "\tGetHandleVerifier [0x00007FF73B9852A2+57122]\n",
      "\t(No symbol) [0x00007FF73B8FEA92]\n",
      "\t(No symbol) [0x00007FF73B7CE3AB]\n",
      "\t(No symbol) [0x00007FF73B807D3E]\n",
      "\t(No symbol) [0x00007FF73B807E2C]\n",
      "\t(No symbol) [0x00007FF73B840B67]\n",
      "\t(No symbol) [0x00007FF73B82701F]\n",
      "\t(No symbol) [0x00007FF73B83EB82]\n",
      "\t(No symbol) [0x00007FF73B826DB3]\n",
      "\t(No symbol) [0x00007FF73B7FD2B1]\n",
      "\t(No symbol) [0x00007FF73B7FE494]\n",
      "\tGetHandleVerifier [0x00007FF73BC2EF82+2849794]\n",
      "\tGetHandleVerifier [0x00007FF73BC81D24+3189156]\n",
      "\tGetHandleVerifier [0x00007FF73BC7ACAF+3160367]\n",
      "\tGetHandleVerifier [0x00007FF73BA16D06+653702]\n",
      "\t(No symbol) [0x00007FF73B90A208]\n",
      "\t(No symbol) [0x00007FF73B9062C4]\n",
      "\t(No symbol) [0x00007FF73B9063F6]\n",
      "\t(No symbol) [0x00007FF73B8F67A3]\n",
      "\tBaseThreadInitThunk [0x00007FFAEB037614+20]\n",
      "\tRtlUserThreadStart [0x00007FFAEB5226B1+33]\n",
      "\n"
     ]
    }
   ],
   "source": [
    "# Images\n",
    "\n",
    "from selenium import webdriver\n",
    "from selenium.webdriver.chrome.options import Options\n",
    "\n",
    "# Set up Chrome WebDriver\n",
    "chrome_options = Options()\n",
    "chrome_options.add_argument(\"--headless\")  # To run Chrome in headless mode (no visible window)\n",
    "driver = webdriver.Chrome(options=chrome_options)\n",
    "\n",
    "# URL of the Amazon product page\n",
    "product_url = \"https://www.amazon.com/your-product-url-here\"\n",
    "\n",
    "# Navigate to the product page\n",
    "driver.get(product_url)\n",
    "\n",
    "try:\n",
    "    # Locate the product image element by CSS selector\n",
    "    image_element = driver.find_element(By.CSS_SELECTOR, \".imgTagWrapper img\")\n",
    "\n",
    "    # Get the image source (URL)\n",
    "    image_url = image_element.get_attribute(\"src\")\n",
    "\n",
    "    # Print or save the image URL\n",
    "    print(\"Product Image URL:\", image_url)\n",
    "\n",
    "except Exception as e:\n",
    "    print(\"Error:\", str(e))\n",
    "\n",
    "finally:\n",
    "    # Close the WebDriver (browser)\n",
    "    driver.quit()\n"
   ]
  },
  {
   "cell_type": "code",
   "execution_count": 1,
   "id": "43ab8e84",
   "metadata": {},
   "outputs": [
    {
     "name": "stdout",
     "output_type": "stream",
     "text": [
      "Downloaded image_0.jpg\n",
      "Downloaded image_1.jpg\n",
      "Downloaded image_2.jpg\n",
      "Downloaded image_3.jpg\n",
      "Downloaded image_4.jpg\n",
      "Downloaded image_5.jpg\n",
      "Downloaded image_6.jpg\n"
     ]
    }
   ],
   "source": [
    "import os\n",
    "import requests\n",
    "from selenium import webdriver\n",
    "from selenium.webdriver.chrome.options import Options\n",
    "from selenium.webdriver.common.by import By\n",
    "\n",
    "# Set up Chrome WebDriver\n",
    "chrome_options = Options()\n",
    "chrome_options.add_argument(\"--headless\")  # To run Chrome in headless mode (no visible window)\n",
    "driver = webdriver.Chrome(options=chrome_options)\n",
    "\n",
    "# URL of the Amazon product page\n",
    "product_url = \"https://www.amazon.in/Friendly-settings-Sharpening-Cordless-Rechargeable/dp/B0C7VYN5PV/ref=zg_bsnr_c_hpc_sccl_1/259-0766209-5404203?pd_rd_w=otyXd&content-id=amzn1.sym.7dd29d48-66c1-486c-967d-2ed40101f2ea&pf_rd_p=7dd29d48-66c1-486c-967d-2ed40101f2ea&pf_rd_r=FQFM3FSV83EXGHHTK8YG&pd_rd_wg=6zkhY&pd_rd_r=ecd127c5-9b2c-456f-baae-bdb2ee071517&pd_rd_i=B0C7VYN5PV&th=1\"\n",
    "\n",
    "# Navigate to the product page\n",
    "driver.get(product_url)\n",
    "\n",
    "try:\n",
    "    # Locate the product image elements by CSS selector\n",
    "    image_elements = driver.find_elements(By.CSS_SELECTOR, \".a-dynamic-image\")\n",
    "\n",
    "    # Create a directory to save the images\n",
    "    os.makedirs('scraped images', exist_ok=True)\n",
    "\n",
    "    # Download and save each image\n",
    "    for i, image_element in enumerate(image_elements):\n",
    "        image_url = image_element.get_attribute(\"src\")\n",
    "        if image_url:\n",
    "            response = requests.get(image_url)\n",
    "            if response.status_code == 200:\n",
    "                with open(f'scraped images/image_{i}.jpg', 'wb') as f:\n",
    "                    f.write(response.content)\n",
    "                print(f\"Downloaded image_{i}.jpg\")\n",
    "\n",
    "except Exception as e:\n",
    "    print(\"Error:\", str(e))\n",
    "\n",
    "finally:\n",
    "    # Close the WebDriver (browser)\n",
    "    driver.quit()\n"
   ]
  },
  {
   "cell_type": "code",
   "execution_count": null,
   "id": "3a6a6b9e",
   "metadata": {},
   "outputs": [],
   "source": []
  }
 ],
 "metadata": {
  "kernelspec": {
   "display_name": "Python 3 (ipykernel)",
   "language": "python",
   "name": "python3"
  },
  "language_info": {
   "codemirror_mode": {
    "name": "ipython",
    "version": 3
   },
   "file_extension": ".py",
   "mimetype": "text/x-python",
   "name": "python",
   "nbconvert_exporter": "python",
   "pygments_lexer": "ipython3",
   "version": "3.9.1"
  }
 },
 "nbformat": 4,
 "nbformat_minor": 5
}
